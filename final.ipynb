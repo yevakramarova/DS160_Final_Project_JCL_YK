{
 "cells": [
  {
   "cell_type": "markdown",
   "id": "6df3a696",
   "metadata": {},
   "source": [
    "### Final Project - ML in Python \n",
    "By Yeva Kramrova and John Little"
   ]
  },
  {
   "cell_type": "markdown",
   "id": "daabc9e0",
   "metadata": {},
   "source": [
    "### I. - Introduction\n",
    "Who doesn’t love a good night’s sleep? It’s that magical time when your body recharges, your brain sorts through the chaos of the day, and you wake up feeling ready to take on the world. But what happens when sleep doesn’t go as planned? Studying sleep lets us uncover its mysteries and figure out how to make those precious hours count. Let’s dive in and see what makes sleep so essential—and so fascinating!\n",
    "\n",
    "##### Key Features of the Dataset:\n",
    "Comprehensive Sleep Metrics: Explore sleep duration, quality, and factors influencing sleep patterns.\n",
    "Lifestyle Factors: Analyze physical activity levels, stress levels, and BMI categories.\n",
    "Cardiovascular Health: Examine blood pressure and heart rate measurements.\n",
    "Sleep Disorder Analysis: Identify the occurrence of sleep disorders such as Insomnia and Sleep Apnea."
   ]
  },
  {
   "cell_type": "markdown",
   "id": "38343467",
   "metadata": {},
   "source": [
    "##### Dataset Columns\n",
    "Person ID: An identifier for each individual.\n",
    "\n",
    "Gender: The gender of the person (Male/Female).\n",
    "\n",
    "Age: The age of the person in years.\n",
    "\n",
    "Occupation: The occupation or profession of the person.\n",
    "\n",
    "Sleep Duration (hours): The number of hours the person sleeps per day.\n",
    "\n",
    "Quality of Sleep (scale: 1-10): A subjective rating of the quality of sleep, ranging from 1 to 10.\n",
    "\n",
    "Physical Activity Level (minutes/day): The number of minutes the person engages in physical activity daily.\n",
    "\n",
    "Stress Level (scale: 1-10): A subjective rating of the stress level experienced by the person, ranging from 1 to 10.\n",
    "\n",
    "BMI Category: The BMI category of the person (e.g., Underweight, Normal, Overweight).\n",
    "\n",
    "Blood Pressure (systolic/diastolic): The blood pressure measurement of the person, indicated as systolic pressure over diastolic pressure.\n",
    "\n",
    "Heart Rate (bpm): The resting heart rate of the person in beats per minute.\n",
    "\n",
    "Daily Steps: The number of steps the person takes per day.\n",
    "\n",
    "Sleep Disorder: The presence or absence of a sleep disorder in the person (None, Insomnia, Sleep Apnea).\n"
   ]
  },
  {
   "cell_type": "markdown",
   "id": "55d52b31",
   "metadata": {},
   "source": [
    "### II. Dataset Description\n",
    "The Sleep Health and Lifestyle Dataset comprises 400 rows and 13 columns, covering a wide range of variables related to sleep and daily habits. It includes details such as gender, age, occupation, sleep duration, quality of sleep, physical activity level, stress levels, BMI category, blood pressure, heart rate, daily steps, and the presence or absence of sleep disorders."
   ]
  },
  {
   "cell_type": "code",
   "execution_count": 56,
   "id": "6f54ad61",
   "metadata": {},
   "outputs": [],
   "source": [
    "import pandas as pd \n",
    "import numpy as np\n",
    "import matplotlib.pyplot as plt\n",
    "from sklearn.model_selection import train_test_split\n",
    "from sklearn.linear_model import LinearRegression\n",
    "from sklearn.linear_model import LogisticRegression\n",
    "from sklearn.metrics import confusion_matrix, classification_report\n",
    "from sklearn.metrics import mean_squared_error, r2_score\n",
    "import seaborn as sns"
   ]
  },
  {
   "cell_type": "markdown",
   "id": "dfa00a76",
   "metadata": {},
   "source": [
    "#### Step.1 - Sample of the dataset"
   ]
  },
  {
   "cell_type": "code",
   "execution_count": 16,
   "id": "0e95e602",
   "metadata": {},
   "outputs": [
    {
     "data": {
      "text/html": [
       "<div>\n",
       "<style scoped>\n",
       "    .dataframe tbody tr th:only-of-type {\n",
       "        vertical-align: middle;\n",
       "    }\n",
       "\n",
       "    .dataframe tbody tr th {\n",
       "        vertical-align: top;\n",
       "    }\n",
       "\n",
       "    .dataframe thead th {\n",
       "        text-align: right;\n",
       "    }\n",
       "</style>\n",
       "<table border=\"1\" class=\"dataframe\">\n",
       "  <thead>\n",
       "    <tr style=\"text-align: right;\">\n",
       "      <th></th>\n",
       "      <th>Person ID</th>\n",
       "      <th>Gender</th>\n",
       "      <th>Age</th>\n",
       "      <th>Occupation</th>\n",
       "      <th>Sleep Duration</th>\n",
       "      <th>Quality of Sleep</th>\n",
       "      <th>Physical Activity Level</th>\n",
       "      <th>Stress Level</th>\n",
       "      <th>BMI Category</th>\n",
       "      <th>Blood Pressure</th>\n",
       "      <th>Heart Rate</th>\n",
       "      <th>Daily Steps</th>\n",
       "      <th>Sleep Disorder</th>\n",
       "    </tr>\n",
       "  </thead>\n",
       "  <tbody>\n",
       "    <tr>\n",
       "      <th>0</th>\n",
       "      <td>1</td>\n",
       "      <td>Male</td>\n",
       "      <td>27</td>\n",
       "      <td>Software Engineer</td>\n",
       "      <td>6.1</td>\n",
       "      <td>6</td>\n",
       "      <td>42</td>\n",
       "      <td>6</td>\n",
       "      <td>Overweight</td>\n",
       "      <td>126/83</td>\n",
       "      <td>77</td>\n",
       "      <td>4200</td>\n",
       "      <td>NaN</td>\n",
       "    </tr>\n",
       "    <tr>\n",
       "      <th>1</th>\n",
       "      <td>2</td>\n",
       "      <td>Male</td>\n",
       "      <td>28</td>\n",
       "      <td>Doctor</td>\n",
       "      <td>6.2</td>\n",
       "      <td>6</td>\n",
       "      <td>60</td>\n",
       "      <td>8</td>\n",
       "      <td>Normal</td>\n",
       "      <td>125/80</td>\n",
       "      <td>75</td>\n",
       "      <td>10000</td>\n",
       "      <td>NaN</td>\n",
       "    </tr>\n",
       "    <tr>\n",
       "      <th>2</th>\n",
       "      <td>3</td>\n",
       "      <td>Male</td>\n",
       "      <td>28</td>\n",
       "      <td>Doctor</td>\n",
       "      <td>6.2</td>\n",
       "      <td>6</td>\n",
       "      <td>60</td>\n",
       "      <td>8</td>\n",
       "      <td>Normal</td>\n",
       "      <td>125/80</td>\n",
       "      <td>75</td>\n",
       "      <td>10000</td>\n",
       "      <td>NaN</td>\n",
       "    </tr>\n",
       "    <tr>\n",
       "      <th>3</th>\n",
       "      <td>4</td>\n",
       "      <td>Male</td>\n",
       "      <td>28</td>\n",
       "      <td>Sales Representative</td>\n",
       "      <td>5.9</td>\n",
       "      <td>4</td>\n",
       "      <td>30</td>\n",
       "      <td>8</td>\n",
       "      <td>Obese</td>\n",
       "      <td>140/90</td>\n",
       "      <td>85</td>\n",
       "      <td>3000</td>\n",
       "      <td>Sleep Apnea</td>\n",
       "    </tr>\n",
       "    <tr>\n",
       "      <th>4</th>\n",
       "      <td>5</td>\n",
       "      <td>Male</td>\n",
       "      <td>28</td>\n",
       "      <td>Sales Representative</td>\n",
       "      <td>5.9</td>\n",
       "      <td>4</td>\n",
       "      <td>30</td>\n",
       "      <td>8</td>\n",
       "      <td>Obese</td>\n",
       "      <td>140/90</td>\n",
       "      <td>85</td>\n",
       "      <td>3000</td>\n",
       "      <td>Sleep Apnea</td>\n",
       "    </tr>\n",
       "  </tbody>\n",
       "</table>\n",
       "</div>"
      ],
      "text/plain": [
       "   Person ID Gender  Age            Occupation  Sleep Duration  \\\n",
       "0          1   Male   27     Software Engineer             6.1   \n",
       "1          2   Male   28                Doctor             6.2   \n",
       "2          3   Male   28                Doctor             6.2   \n",
       "3          4   Male   28  Sales Representative             5.9   \n",
       "4          5   Male   28  Sales Representative             5.9   \n",
       "\n",
       "   Quality of Sleep  Physical Activity Level  Stress Level BMI Category  \\\n",
       "0                 6                       42             6   Overweight   \n",
       "1                 6                       60             8       Normal   \n",
       "2                 6                       60             8       Normal   \n",
       "3                 4                       30             8        Obese   \n",
       "4                 4                       30             8        Obese   \n",
       "\n",
       "  Blood Pressure  Heart Rate  Daily Steps Sleep Disorder  \n",
       "0         126/83          77         4200            NaN  \n",
       "1         125/80          75        10000            NaN  \n",
       "2         125/80          75        10000            NaN  \n",
       "3         140/90          85         3000    Sleep Apnea  \n",
       "4         140/90          85         3000    Sleep Apnea  "
      ]
     },
     "execution_count": 16,
     "metadata": {},
     "output_type": "execute_result"
    }
   ],
   "source": [
    "data = pd.read_csv('/Users/EvaKramarova/Downloads/Sleep_health_and_lifestyle_dataset.csv')\n",
    "data.head()"
   ]
  },
  {
   "cell_type": "markdown",
   "id": "38f519b9",
   "metadata": {},
   "source": [
    "#### Step 2 - Determining the data type"
   ]
  },
  {
   "cell_type": "code",
   "execution_count": 17,
   "id": "8057562e",
   "metadata": {},
   "outputs": [
    {
     "name": "stdout",
     "output_type": "stream",
     "text": [
      "<class 'pandas.core.frame.DataFrame'>\n",
      "RangeIndex: 374 entries, 0 to 373\n",
      "Data columns (total 13 columns):\n",
      " #   Column                   Non-Null Count  Dtype  \n",
      "---  ------                   --------------  -----  \n",
      " 0   Person ID                374 non-null    int64  \n",
      " 1   Gender                   374 non-null    object \n",
      " 2   Age                      374 non-null    int64  \n",
      " 3   Occupation               374 non-null    object \n",
      " 4   Sleep Duration           374 non-null    float64\n",
      " 5   Quality of Sleep         374 non-null    int64  \n",
      " 6   Physical Activity Level  374 non-null    int64  \n",
      " 7   Stress Level             374 non-null    int64  \n",
      " 8   BMI Category             374 non-null    object \n",
      " 9   Blood Pressure           374 non-null    object \n",
      " 10  Heart Rate               374 non-null    int64  \n",
      " 11  Daily Steps              374 non-null    int64  \n",
      " 12  Sleep Disorder           155 non-null    object \n",
      "dtypes: float64(1), int64(7), object(5)\n",
      "memory usage: 38.1+ KB\n"
     ]
    }
   ],
   "source": [
    "data.info()"
   ]
  },
  {
   "cell_type": "markdown",
   "id": "5b26ba0e",
   "metadata": {},
   "source": [
    "#### Step 3 - Determining the missing values and its percentage"
   ]
  },
  {
   "cell_type": "code",
   "execution_count": 18,
   "id": "a135ccec",
   "metadata": {},
   "outputs": [
    {
     "data": {
      "text/plain": [
       "Person ID                   0.00\n",
       "Gender                      0.00\n",
       "Age                         0.00\n",
       "Occupation                  0.00\n",
       "Sleep Duration              0.00\n",
       "Quality of Sleep            0.00\n",
       "Physical Activity Level     0.00\n",
       "Stress Level                0.00\n",
       "BMI Category                0.00\n",
       "Blood Pressure              0.00\n",
       "Heart Rate                  0.00\n",
       "Daily Steps                 0.00\n",
       "Sleep Disorder             58.56\n",
       "dtype: float64"
      ]
     },
     "execution_count": 18,
     "metadata": {},
     "output_type": "execute_result"
    }
   ],
   "source": [
    "missing_data_percent=round((data.isnull().sum() / len(data))*100,2)\n",
    "missing_data_percent"
   ]
  },
  {
   "cell_type": "markdown",
   "id": "0be4c0fe",
   "metadata": {},
   "source": [
    "#### Step 4 - Replacing Missing Values\n",
    "At first it seems like there is 58.56% of missing values in Sleep DIsorder Column. However, if we take a closer look into the column data, it says \"NaN\", whereas in reality it means that a person has no Sleep Disorder. Therefore, the following code imputes \"No Disorder\" into the values that the Python considers missing (\"NaN\".)"
   ]
  },
  {
   "cell_type": "code",
   "execution_count": 19,
   "id": "c98ceb8f",
   "metadata": {},
   "outputs": [],
   "source": [
    "imputation_dict={\"Sleep Disorder\": \"No Disorder\"}"
   ]
  },
  {
   "cell_type": "code",
   "execution_count": 20,
   "id": "923c5a86",
   "metadata": {},
   "outputs": [],
   "source": [
    "data2=data.fillna(value=imputation_dict)"
   ]
  },
  {
   "cell_type": "markdown",
   "id": "f001f270",
   "metadata": {},
   "source": [
    "Now, data has no missing values."
   ]
  },
  {
   "cell_type": "code",
   "execution_count": 21,
   "id": "a8d66442",
   "metadata": {},
   "outputs": [
    {
     "data": {
      "text/plain": [
       "Person ID                  0\n",
       "Gender                     0\n",
       "Age                        0\n",
       "Occupation                 0\n",
       "Sleep Duration             0\n",
       "Quality of Sleep           0\n",
       "Physical Activity Level    0\n",
       "Stress Level               0\n",
       "BMI Category               0\n",
       "Blood Pressure             0\n",
       "Heart Rate                 0\n",
       "Daily Steps                0\n",
       "Sleep Disorder             0\n",
       "dtype: int64"
      ]
     },
     "execution_count": 21,
     "metadata": {},
     "output_type": "execute_result"
    }
   ],
   "source": [
    "data2.isnull().sum()"
   ]
  },
  {
   "cell_type": "code",
   "execution_count": 22,
   "id": "c9b82f64",
   "metadata": {},
   "outputs": [
    {
     "data": {
      "text/html": [
       "<div>\n",
       "<style scoped>\n",
       "    .dataframe tbody tr th:only-of-type {\n",
       "        vertical-align: middle;\n",
       "    }\n",
       "\n",
       "    .dataframe tbody tr th {\n",
       "        vertical-align: top;\n",
       "    }\n",
       "\n",
       "    .dataframe thead th {\n",
       "        text-align: right;\n",
       "    }\n",
       "</style>\n",
       "<table border=\"1\" class=\"dataframe\">\n",
       "  <thead>\n",
       "    <tr style=\"text-align: right;\">\n",
       "      <th></th>\n",
       "      <th>Person ID</th>\n",
       "      <th>Gender</th>\n",
       "      <th>Age</th>\n",
       "      <th>Occupation</th>\n",
       "      <th>Sleep Duration</th>\n",
       "      <th>Quality of Sleep</th>\n",
       "      <th>Physical Activity Level</th>\n",
       "      <th>Stress Level</th>\n",
       "      <th>BMI Category</th>\n",
       "      <th>Blood Pressure</th>\n",
       "      <th>Heart Rate</th>\n",
       "      <th>Daily Steps</th>\n",
       "      <th>Sleep Disorder</th>\n",
       "    </tr>\n",
       "  </thead>\n",
       "  <tbody>\n",
       "    <tr>\n",
       "      <th>0</th>\n",
       "      <td>1</td>\n",
       "      <td>Male</td>\n",
       "      <td>27</td>\n",
       "      <td>Software Engineer</td>\n",
       "      <td>6.1</td>\n",
       "      <td>6</td>\n",
       "      <td>42</td>\n",
       "      <td>6</td>\n",
       "      <td>Overweight</td>\n",
       "      <td>126/83</td>\n",
       "      <td>77</td>\n",
       "      <td>4200</td>\n",
       "      <td>No Disorder</td>\n",
       "    </tr>\n",
       "    <tr>\n",
       "      <th>1</th>\n",
       "      <td>2</td>\n",
       "      <td>Male</td>\n",
       "      <td>28</td>\n",
       "      <td>Doctor</td>\n",
       "      <td>6.2</td>\n",
       "      <td>6</td>\n",
       "      <td>60</td>\n",
       "      <td>8</td>\n",
       "      <td>Normal</td>\n",
       "      <td>125/80</td>\n",
       "      <td>75</td>\n",
       "      <td>10000</td>\n",
       "      <td>No Disorder</td>\n",
       "    </tr>\n",
       "    <tr>\n",
       "      <th>2</th>\n",
       "      <td>3</td>\n",
       "      <td>Male</td>\n",
       "      <td>28</td>\n",
       "      <td>Doctor</td>\n",
       "      <td>6.2</td>\n",
       "      <td>6</td>\n",
       "      <td>60</td>\n",
       "      <td>8</td>\n",
       "      <td>Normal</td>\n",
       "      <td>125/80</td>\n",
       "      <td>75</td>\n",
       "      <td>10000</td>\n",
       "      <td>No Disorder</td>\n",
       "    </tr>\n",
       "    <tr>\n",
       "      <th>3</th>\n",
       "      <td>4</td>\n",
       "      <td>Male</td>\n",
       "      <td>28</td>\n",
       "      <td>Sales Representative</td>\n",
       "      <td>5.9</td>\n",
       "      <td>4</td>\n",
       "      <td>30</td>\n",
       "      <td>8</td>\n",
       "      <td>Obese</td>\n",
       "      <td>140/90</td>\n",
       "      <td>85</td>\n",
       "      <td>3000</td>\n",
       "      <td>Sleep Apnea</td>\n",
       "    </tr>\n",
       "    <tr>\n",
       "      <th>4</th>\n",
       "      <td>5</td>\n",
       "      <td>Male</td>\n",
       "      <td>28</td>\n",
       "      <td>Sales Representative</td>\n",
       "      <td>5.9</td>\n",
       "      <td>4</td>\n",
       "      <td>30</td>\n",
       "      <td>8</td>\n",
       "      <td>Obese</td>\n",
       "      <td>140/90</td>\n",
       "      <td>85</td>\n",
       "      <td>3000</td>\n",
       "      <td>Sleep Apnea</td>\n",
       "    </tr>\n",
       "  </tbody>\n",
       "</table>\n",
       "</div>"
      ],
      "text/plain": [
       "   Person ID Gender  Age            Occupation  Sleep Duration  \\\n",
       "0          1   Male   27     Software Engineer             6.1   \n",
       "1          2   Male   28                Doctor             6.2   \n",
       "2          3   Male   28                Doctor             6.2   \n",
       "3          4   Male   28  Sales Representative             5.9   \n",
       "4          5   Male   28  Sales Representative             5.9   \n",
       "\n",
       "   Quality of Sleep  Physical Activity Level  Stress Level BMI Category  \\\n",
       "0                 6                       42             6   Overweight   \n",
       "1                 6                       60             8       Normal   \n",
       "2                 6                       60             8       Normal   \n",
       "3                 4                       30             8        Obese   \n",
       "4                 4                       30             8        Obese   \n",
       "\n",
       "  Blood Pressure  Heart Rate  Daily Steps Sleep Disorder  \n",
       "0         126/83          77         4200    No Disorder  \n",
       "1         125/80          75        10000    No Disorder  \n",
       "2         125/80          75        10000    No Disorder  \n",
       "3         140/90          85         3000    Sleep Apnea  \n",
       "4         140/90          85         3000    Sleep Apnea  "
      ]
     },
     "execution_count": 22,
     "metadata": {},
     "output_type": "execute_result"
    }
   ],
   "source": [
    "data2.head()"
   ]
  },
  {
   "cell_type": "markdown",
   "id": "882b4490",
   "metadata": {},
   "source": [
    "### III. Data Set Summary Statistics\n",
    "This section will dive deeper into the statistical measurements of the dataset such as count, mean, standard deviation, min, 25th, 50th, 75th, max. Also, the section will show the proportions for each categorical variable, as well as the correlation table and matrix to show the correlation between the continuous variables."
   ]
  },
  {
   "cell_type": "markdown",
   "id": "0e1388e5",
   "metadata": {},
   "source": [
    "#### Step 1 - Showing important statistical measurements of the dataset"
   ]
  },
  {
   "cell_type": "code",
   "execution_count": 24,
   "id": "f0b5a1cb",
   "metadata": {},
   "outputs": [
    {
     "data": {
      "text/html": [
       "<div>\n",
       "<style scoped>\n",
       "    .dataframe tbody tr th:only-of-type {\n",
       "        vertical-align: middle;\n",
       "    }\n",
       "\n",
       "    .dataframe tbody tr th {\n",
       "        vertical-align: top;\n",
       "    }\n",
       "\n",
       "    .dataframe thead th {\n",
       "        text-align: right;\n",
       "    }\n",
       "</style>\n",
       "<table border=\"1\" class=\"dataframe\">\n",
       "  <thead>\n",
       "    <tr style=\"text-align: right;\">\n",
       "      <th></th>\n",
       "      <th>count</th>\n",
       "      <th>mean</th>\n",
       "      <th>std</th>\n",
       "      <th>min</th>\n",
       "      <th>25%</th>\n",
       "      <th>50%</th>\n",
       "      <th>75%</th>\n",
       "      <th>max</th>\n",
       "    </tr>\n",
       "  </thead>\n",
       "  <tbody>\n",
       "    <tr>\n",
       "      <th>Person ID</th>\n",
       "      <td>374.0</td>\n",
       "      <td>187.500000</td>\n",
       "      <td>108.108742</td>\n",
       "      <td>1.0</td>\n",
       "      <td>94.25</td>\n",
       "      <td>187.5</td>\n",
       "      <td>280.75</td>\n",
       "      <td>374.0</td>\n",
       "    </tr>\n",
       "    <tr>\n",
       "      <th>Age</th>\n",
       "      <td>374.0</td>\n",
       "      <td>42.184492</td>\n",
       "      <td>8.673133</td>\n",
       "      <td>27.0</td>\n",
       "      <td>35.25</td>\n",
       "      <td>43.0</td>\n",
       "      <td>50.00</td>\n",
       "      <td>59.0</td>\n",
       "    </tr>\n",
       "    <tr>\n",
       "      <th>Sleep Duration</th>\n",
       "      <td>374.0</td>\n",
       "      <td>7.132086</td>\n",
       "      <td>0.795657</td>\n",
       "      <td>5.8</td>\n",
       "      <td>6.40</td>\n",
       "      <td>7.2</td>\n",
       "      <td>7.80</td>\n",
       "      <td>8.5</td>\n",
       "    </tr>\n",
       "    <tr>\n",
       "      <th>Quality of Sleep</th>\n",
       "      <td>374.0</td>\n",
       "      <td>7.312834</td>\n",
       "      <td>1.196956</td>\n",
       "      <td>4.0</td>\n",
       "      <td>6.00</td>\n",
       "      <td>7.0</td>\n",
       "      <td>8.00</td>\n",
       "      <td>9.0</td>\n",
       "    </tr>\n",
       "    <tr>\n",
       "      <th>Physical Activity Level</th>\n",
       "      <td>374.0</td>\n",
       "      <td>59.171123</td>\n",
       "      <td>20.830804</td>\n",
       "      <td>30.0</td>\n",
       "      <td>45.00</td>\n",
       "      <td>60.0</td>\n",
       "      <td>75.00</td>\n",
       "      <td>90.0</td>\n",
       "    </tr>\n",
       "    <tr>\n",
       "      <th>Stress Level</th>\n",
       "      <td>374.0</td>\n",
       "      <td>5.385027</td>\n",
       "      <td>1.774526</td>\n",
       "      <td>3.0</td>\n",
       "      <td>4.00</td>\n",
       "      <td>5.0</td>\n",
       "      <td>7.00</td>\n",
       "      <td>8.0</td>\n",
       "    </tr>\n",
       "    <tr>\n",
       "      <th>Heart Rate</th>\n",
       "      <td>374.0</td>\n",
       "      <td>70.165775</td>\n",
       "      <td>4.135676</td>\n",
       "      <td>65.0</td>\n",
       "      <td>68.00</td>\n",
       "      <td>70.0</td>\n",
       "      <td>72.00</td>\n",
       "      <td>86.0</td>\n",
       "    </tr>\n",
       "    <tr>\n",
       "      <th>Daily Steps</th>\n",
       "      <td>374.0</td>\n",
       "      <td>6816.844920</td>\n",
       "      <td>1617.915679</td>\n",
       "      <td>3000.0</td>\n",
       "      <td>5600.00</td>\n",
       "      <td>7000.0</td>\n",
       "      <td>8000.00</td>\n",
       "      <td>10000.0</td>\n",
       "    </tr>\n",
       "  </tbody>\n",
       "</table>\n",
       "</div>"
      ],
      "text/plain": [
       "                         count         mean          std     min      25%  \\\n",
       "Person ID                374.0   187.500000   108.108742     1.0    94.25   \n",
       "Age                      374.0    42.184492     8.673133    27.0    35.25   \n",
       "Sleep Duration           374.0     7.132086     0.795657     5.8     6.40   \n",
       "Quality of Sleep         374.0     7.312834     1.196956     4.0     6.00   \n",
       "Physical Activity Level  374.0    59.171123    20.830804    30.0    45.00   \n",
       "Stress Level             374.0     5.385027     1.774526     3.0     4.00   \n",
       "Heart Rate               374.0    70.165775     4.135676    65.0    68.00   \n",
       "Daily Steps              374.0  6816.844920  1617.915679  3000.0  5600.00   \n",
       "\n",
       "                            50%      75%      max  \n",
       "Person ID                 187.5   280.75    374.0  \n",
       "Age                        43.0    50.00     59.0  \n",
       "Sleep Duration              7.2     7.80      8.5  \n",
       "Quality of Sleep            7.0     8.00      9.0  \n",
       "Physical Activity Level    60.0    75.00     90.0  \n",
       "Stress Level                5.0     7.00      8.0  \n",
       "Heart Rate                 70.0    72.00     86.0  \n",
       "Daily Steps              7000.0  8000.00  10000.0  "
      ]
     },
     "execution_count": 24,
     "metadata": {},
     "output_type": "execute_result"
    }
   ],
   "source": [
    "data2.describe().transpose()"
   ]
  },
  {
   "cell_type": "markdown",
   "id": "c91a2d9a",
   "metadata": {},
   "source": [
    "#### Step 2 - Getting the frequency of each category and calculating proportion for each category. "
   ]
  },
  {
   "cell_type": "code",
   "execution_count": 25,
   "id": "8d7f645c",
   "metadata": {},
   "outputs": [
    {
     "name": "stdout",
     "output_type": "stream",
     "text": [
      "--- BMI Category ---\n",
      "               Frequency  Proportion (%)\n",
      "BMI Category                            \n",
      "Normal               195       52.139037\n",
      "Overweight           148       39.572193\n",
      "Normal Weight         21        5.614973\n",
      "Obese                 10        2.673797\n",
      "\n",
      "\n",
      "--- Blood Pressure ---\n",
      "                Frequency  Proportion (%)\n",
      "Blood Pressure                           \n",
      "130/85                 99       26.470588\n",
      "140/95                 65       17.379679\n",
      "125/80                 65       17.379679\n",
      "120/80                 45       12.032086\n",
      "115/75                 32        8.556150\n",
      "135/90                 27        7.219251\n",
      "140/90                  4        1.069519\n",
      "125/82                  4        1.069519\n",
      "132/87                  3        0.802139\n",
      "128/85                  3        0.802139\n",
      "126/83                  2        0.534759\n",
      "115/78                  2        0.534759\n",
      "139/91                  2        0.534759\n",
      "142/92                  2        0.534759\n",
      "119/77                  2        0.534759\n",
      "135/88                  2        0.534759\n",
      "129/84                  2        0.534759\n",
      "128/84                  2        0.534759\n",
      "131/86                  2        0.534759\n",
      "117/76                  2        0.534759\n",
      "130/86                  2        0.534759\n",
      "118/75                  2        0.534759\n",
      "121/79                  1        0.267380\n",
      "122/80                  1        0.267380\n",
      "118/76                  1        0.267380\n",
      "\n",
      "\n",
      "--- Gender ---\n",
      "        Frequency  Proportion (%)\n",
      "Gender                           \n",
      "Male          189       50.534759\n",
      "Female        185       49.465241\n",
      "\n",
      "\n",
      "--- Occupation ---\n",
      "                      Frequency  Proportion (%)\n",
      "Occupation                                     \n",
      "Nurse                        73       19.518717\n",
      "Doctor                       71       18.983957\n",
      "Engineer                     63       16.844920\n",
      "Lawyer                       47       12.566845\n",
      "Teacher                      40       10.695187\n",
      "Accountant                   37        9.893048\n",
      "Salesperson                  32        8.556150\n",
      "Software Engineer             4        1.069519\n",
      "Scientist                     4        1.069519\n",
      "Sales Representative          2        0.534759\n",
      "Manager                       1        0.267380\n",
      "\n",
      "\n",
      "--- Sleep Disorder ---\n",
      "                Frequency  Proportion (%)\n",
      "Sleep Disorder                           \n",
      "No Disorder           219       58.556150\n",
      "Sleep Apnea            78       20.855615\n",
      "Insomnia               77       20.588235\n",
      "\n",
      "\n"
     ]
    }
   ],
   "source": [
    "categorical_columns = ['BMI Category', 'Blood Pressure', 'Gender', 'Occupation', 'Sleep Disorder']\n",
    "for column in categorical_columns:\n",
    "    print(f\"--- {column} ---\")\n",
    "    \n",
    "    frequency = data2[column].value_counts()\n",
    "    \n",
    "    proportion = data2[column].value_counts(normalize=True) * 100\n",
    "    \n",
    "    result_df = pd.DataFrame({'Frequency': frequency, 'Proportion (%)': proportion})\n",
    "    \n",
    "    print(result_df)\n",
    "    print(\"\\n\")"
   ]
  },
  {
   "cell_type": "markdown",
   "id": "6dc39a03",
   "metadata": {},
   "source": [
    "\n",
    "#### Step 3 - Displaying the correlation table show the correlation between the continuous variables."
   ]
  },
  {
   "cell_type": "code",
   "execution_count": 23,
   "id": "8274b3a5",
   "metadata": {},
   "outputs": [
    {
     "name": "stdout",
     "output_type": "stream",
     "text": [
      "<class 'pandas.core.frame.DataFrame'>\n",
      "RangeIndex: 374 entries, 0 to 373\n",
      "Data columns (total 8 columns):\n",
      " #   Column                   Non-Null Count  Dtype  \n",
      "---  ------                   --------------  -----  \n",
      " 0   Person ID                374 non-null    int64  \n",
      " 1   Age                      374 non-null    int64  \n",
      " 2   Sleep Duration           374 non-null    float64\n",
      " 3   Quality of Sleep         374 non-null    int64  \n",
      " 4   Physical Activity Level  374 non-null    int64  \n",
      " 5   Stress Level             374 non-null    int64  \n",
      " 6   Heart Rate               374 non-null    int64  \n",
      " 7   Daily Steps              374 non-null    int64  \n",
      "dtypes: float64(1), int64(7)\n",
      "memory usage: 23.5 KB\n"
     ]
    }
   ],
   "source": [
    "data_num=data2.select_dtypes('number')\n",
    "data_num.info()"
   ]
  },
  {
   "cell_type": "code",
   "execution_count": 24,
   "id": "36da21dc",
   "metadata": {},
   "outputs": [
    {
     "data": {
      "text/html": [
       "<div>\n",
       "<style scoped>\n",
       "    .dataframe tbody tr th:only-of-type {\n",
       "        vertical-align: middle;\n",
       "    }\n",
       "\n",
       "    .dataframe tbody tr th {\n",
       "        vertical-align: top;\n",
       "    }\n",
       "\n",
       "    .dataframe thead th {\n",
       "        text-align: right;\n",
       "    }\n",
       "</style>\n",
       "<table border=\"1\" class=\"dataframe\">\n",
       "  <thead>\n",
       "    <tr style=\"text-align: right;\">\n",
       "      <th></th>\n",
       "      <th>Person ID</th>\n",
       "      <th>Age</th>\n",
       "      <th>Sleep Duration</th>\n",
       "      <th>Quality of Sleep</th>\n",
       "      <th>Physical Activity Level</th>\n",
       "      <th>Stress Level</th>\n",
       "      <th>Heart Rate</th>\n",
       "      <th>Daily Steps</th>\n",
       "    </tr>\n",
       "  </thead>\n",
       "  <tbody>\n",
       "    <tr>\n",
       "      <th>Person ID</th>\n",
       "      <td>1.000000</td>\n",
       "      <td>0.990516</td>\n",
       "      <td>0.296305</td>\n",
       "      <td>0.431612</td>\n",
       "      <td>0.149882</td>\n",
       "      <td>-0.394287</td>\n",
       "      <td>-0.225467</td>\n",
       "      <td>0.043844</td>\n",
       "    </tr>\n",
       "    <tr>\n",
       "      <th>Age</th>\n",
       "      <td>0.990516</td>\n",
       "      <td>1.000000</td>\n",
       "      <td>0.344709</td>\n",
       "      <td>0.473734</td>\n",
       "      <td>0.178993</td>\n",
       "      <td>-0.422344</td>\n",
       "      <td>-0.225606</td>\n",
       "      <td>0.057973</td>\n",
       "    </tr>\n",
       "    <tr>\n",
       "      <th>Sleep Duration</th>\n",
       "      <td>0.296305</td>\n",
       "      <td>0.344709</td>\n",
       "      <td>1.000000</td>\n",
       "      <td>0.883213</td>\n",
       "      <td>0.212360</td>\n",
       "      <td>-0.811023</td>\n",
       "      <td>-0.516455</td>\n",
       "      <td>-0.039533</td>\n",
       "    </tr>\n",
       "    <tr>\n",
       "      <th>Quality of Sleep</th>\n",
       "      <td>0.431612</td>\n",
       "      <td>0.473734</td>\n",
       "      <td>0.883213</td>\n",
       "      <td>1.000000</td>\n",
       "      <td>0.192896</td>\n",
       "      <td>-0.898752</td>\n",
       "      <td>-0.659865</td>\n",
       "      <td>0.016791</td>\n",
       "    </tr>\n",
       "    <tr>\n",
       "      <th>Physical Activity Level</th>\n",
       "      <td>0.149882</td>\n",
       "      <td>0.178993</td>\n",
       "      <td>0.212360</td>\n",
       "      <td>0.192896</td>\n",
       "      <td>1.000000</td>\n",
       "      <td>-0.034134</td>\n",
       "      <td>0.136971</td>\n",
       "      <td>0.772723</td>\n",
       "    </tr>\n",
       "    <tr>\n",
       "      <th>Stress Level</th>\n",
       "      <td>-0.394287</td>\n",
       "      <td>-0.422344</td>\n",
       "      <td>-0.811023</td>\n",
       "      <td>-0.898752</td>\n",
       "      <td>-0.034134</td>\n",
       "      <td>1.000000</td>\n",
       "      <td>0.670026</td>\n",
       "      <td>0.186829</td>\n",
       "    </tr>\n",
       "    <tr>\n",
       "      <th>Heart Rate</th>\n",
       "      <td>-0.225467</td>\n",
       "      <td>-0.225606</td>\n",
       "      <td>-0.516455</td>\n",
       "      <td>-0.659865</td>\n",
       "      <td>0.136971</td>\n",
       "      <td>0.670026</td>\n",
       "      <td>1.000000</td>\n",
       "      <td>-0.030309</td>\n",
       "    </tr>\n",
       "    <tr>\n",
       "      <th>Daily Steps</th>\n",
       "      <td>0.043844</td>\n",
       "      <td>0.057973</td>\n",
       "      <td>-0.039533</td>\n",
       "      <td>0.016791</td>\n",
       "      <td>0.772723</td>\n",
       "      <td>0.186829</td>\n",
       "      <td>-0.030309</td>\n",
       "      <td>1.000000</td>\n",
       "    </tr>\n",
       "  </tbody>\n",
       "</table>\n",
       "</div>"
      ],
      "text/plain": [
       "                         Person ID       Age  Sleep Duration  \\\n",
       "Person ID                 1.000000  0.990516        0.296305   \n",
       "Age                       0.990516  1.000000        0.344709   \n",
       "Sleep Duration            0.296305  0.344709        1.000000   \n",
       "Quality of Sleep          0.431612  0.473734        0.883213   \n",
       "Physical Activity Level   0.149882  0.178993        0.212360   \n",
       "Stress Level             -0.394287 -0.422344       -0.811023   \n",
       "Heart Rate               -0.225467 -0.225606       -0.516455   \n",
       "Daily Steps               0.043844  0.057973       -0.039533   \n",
       "\n",
       "                         Quality of Sleep  Physical Activity Level  \\\n",
       "Person ID                        0.431612                 0.149882   \n",
       "Age                              0.473734                 0.178993   \n",
       "Sleep Duration                   0.883213                 0.212360   \n",
       "Quality of Sleep                 1.000000                 0.192896   \n",
       "Physical Activity Level          0.192896                 1.000000   \n",
       "Stress Level                    -0.898752                -0.034134   \n",
       "Heart Rate                      -0.659865                 0.136971   \n",
       "Daily Steps                      0.016791                 0.772723   \n",
       "\n",
       "                         Stress Level  Heart Rate  Daily Steps  \n",
       "Person ID                   -0.394287   -0.225467     0.043844  \n",
       "Age                         -0.422344   -0.225606     0.057973  \n",
       "Sleep Duration              -0.811023   -0.516455    -0.039533  \n",
       "Quality of Sleep            -0.898752   -0.659865     0.016791  \n",
       "Physical Activity Level     -0.034134    0.136971     0.772723  \n",
       "Stress Level                 1.000000    0.670026     0.186829  \n",
       "Heart Rate                   0.670026    1.000000    -0.030309  \n",
       "Daily Steps                  0.186829   -0.030309     1.000000  "
      ]
     },
     "execution_count": 24,
     "metadata": {},
     "output_type": "execute_result"
    }
   ],
   "source": [
    "data_num.corr()"
   ]
  },
  {
   "cell_type": "code",
   "execution_count": 32,
   "id": "a49ada65",
   "metadata": {},
   "outputs": [
    {
     "data": {
      "image/png": "[encoded data removed]",
      "text/plain": [
       "<Figure size 800x600 with 2 Axes>"
      ]
     },
     "metadata": {},
     "output_type": "display_data"
    }
   ],
   "source": [
    "corr_matrix=data2[['Person ID','Age','Sleep Duration','Quality of Sleep','Physical Activity Level','Stress Level','Heart Rate','Daily Steps']].corr()\n",
    "plt.figure(figsize=(8, 6))\n",
    "sns.heatmap(corr_matrix, annot=True, cmap='viridis')\n",
    "plt.show()"
   ]
  },
  {
   "cell_type": "markdown",
   "id": "88371c5b",
   "metadata": {},
   "source": [
    "### IV. Data Set Graphical Exploration\n",
    "\n",
    "Graphical visualization helps to better identify trends, make comparisons, and recognize patterns in the numerical data. Therefore, in this section, different kinds of graphs will help us to become more familiar with the dataset discuss interesting distributions, anomalies, or imbalances of the dataset."
   ]
  },
  {
   "cell_type": "code",
   "execution_count": null,
   "id": "a64af1aa",
   "metadata": {},
   "outputs": [],
   "source": []
  },
  {
   "cell_type": "code",
   "execution_count": null,
   "id": "41664cac",
   "metadata": {},
   "outputs": [],
   "source": []
  },
  {
   "cell_type": "code",
   "execution_count": null,
   "id": "6b8cc6a5",
   "metadata": {},
   "outputs": [],
   "source": []
  },
  {
   "cell_type": "code",
   "execution_count": null,
   "id": "f66323b6",
   "metadata": {},
   "outputs": [],
   "source": []
  },
  {
   "cell_type": "markdown",
   "id": "131f9f15",
   "metadata": {},
   "source": [
    "### V. Machine Learming Models - Linear Regression Model\n",
    "Linear Regression is used to predict continuous variables. In our contxt, we will use multiple linear regression to predict Sleep Quality, which is in a scale from 1-10. The independenbt variables will be: Age, Stress Level, Physical Activity Level, Sleep Duration, Daily Steps, Gender, BMI Category, Sleep Disorder.\n",
    "\n",
    "All the required packages for linear regression have already been installed, therefore, we will now proceed to encoding the dummy variablea which are Gender, BMI Category and Sleep Disorder.\n",
    "\n",
    "We also mentioned that the BMI Category column has three categories: Normal, Normal Weight, Overweight. Normal and Normal Weight correspond to the same meaning, hence, we replaces \"Normal Weight\" with \"Normal\"."
   ]
  },
  {
   "cell_type": "code",
   "execution_count": 27,
   "id": "a8b8e852",
   "metadata": {},
   "outputs": [],
   "source": [
    "data2['BMI Category'] = data['BMI Category'].replace(\"Normal Weight\", \"Normal\")"
   ]
  },
  {
   "cell_type": "code",
   "execution_count": 29,
   "id": "432569bf",
   "metadata": {},
   "outputs": [
    {
     "data": {
      "text/html": [
       "<div>\n",
       "<style scoped>\n",
       "    .dataframe tbody tr th:only-of-type {\n",
       "        vertical-align: middle;\n",
       "    }\n",
       "\n",
       "    .dataframe tbody tr th {\n",
       "        vertical-align: top;\n",
       "    }\n",
       "\n",
       "    .dataframe thead th {\n",
       "        text-align: right;\n",
       "    }\n",
       "</style>\n",
       "<table border=\"1\" class=\"dataframe\">\n",
       "  <thead>\n",
       "    <tr style=\"text-align: right;\">\n",
       "      <th></th>\n",
       "      <th>Person ID</th>\n",
       "      <th>Gender</th>\n",
       "      <th>Age</th>\n",
       "      <th>Occupation</th>\n",
       "      <th>Sleep Duration</th>\n",
       "      <th>Quality of Sleep</th>\n",
       "      <th>Physical Activity Level</th>\n",
       "      <th>Stress Level</th>\n",
       "      <th>BMI Category</th>\n",
       "      <th>Blood Pressure</th>\n",
       "      <th>Heart Rate</th>\n",
       "      <th>Daily Steps</th>\n",
       "      <th>Sleep Disorder</th>\n",
       "    </tr>\n",
       "  </thead>\n",
       "  <tbody>\n",
       "    <tr>\n",
       "      <th>0</th>\n",
       "      <td>1</td>\n",
       "      <td>Male</td>\n",
       "      <td>27</td>\n",
       "      <td>Software Engineer</td>\n",
       "      <td>6.1</td>\n",
       "      <td>6</td>\n",
       "      <td>42</td>\n",
       "      <td>6</td>\n",
       "      <td>Overweight</td>\n",
       "      <td>126/83</td>\n",
       "      <td>77</td>\n",
       "      <td>4200</td>\n",
       "      <td>No Disorder</td>\n",
       "    </tr>\n",
       "    <tr>\n",
       "      <th>1</th>\n",
       "      <td>2</td>\n",
       "      <td>Male</td>\n",
       "      <td>28</td>\n",
       "      <td>Doctor</td>\n",
       "      <td>6.2</td>\n",
       "      <td>6</td>\n",
       "      <td>60</td>\n",
       "      <td>8</td>\n",
       "      <td>Normal</td>\n",
       "      <td>125/80</td>\n",
       "      <td>75</td>\n",
       "      <td>10000</td>\n",
       "      <td>No Disorder</td>\n",
       "    </tr>\n",
       "    <tr>\n",
       "      <th>2</th>\n",
       "      <td>3</td>\n",
       "      <td>Male</td>\n",
       "      <td>28</td>\n",
       "      <td>Doctor</td>\n",
       "      <td>6.2</td>\n",
       "      <td>6</td>\n",
       "      <td>60</td>\n",
       "      <td>8</td>\n",
       "      <td>Normal</td>\n",
       "      <td>125/80</td>\n",
       "      <td>75</td>\n",
       "      <td>10000</td>\n",
       "      <td>No Disorder</td>\n",
       "    </tr>\n",
       "    <tr>\n",
       "      <th>3</th>\n",
       "      <td>4</td>\n",
       "      <td>Male</td>\n",
       "      <td>28</td>\n",
       "      <td>Sales Representative</td>\n",
       "      <td>5.9</td>\n",
       "      <td>4</td>\n",
       "      <td>30</td>\n",
       "      <td>8</td>\n",
       "      <td>Obese</td>\n",
       "      <td>140/90</td>\n",
       "      <td>85</td>\n",
       "      <td>3000</td>\n",
       "      <td>Sleep Apnea</td>\n",
       "    </tr>\n",
       "    <tr>\n",
       "      <th>4</th>\n",
       "      <td>5</td>\n",
       "      <td>Male</td>\n",
       "      <td>28</td>\n",
       "      <td>Sales Representative</td>\n",
       "      <td>5.9</td>\n",
       "      <td>4</td>\n",
       "      <td>30</td>\n",
       "      <td>8</td>\n",
       "      <td>Obese</td>\n",
       "      <td>140/90</td>\n",
       "      <td>85</td>\n",
       "      <td>3000</td>\n",
       "      <td>Sleep Apnea</td>\n",
       "    </tr>\n",
       "  </tbody>\n",
       "</table>\n",
       "</div>"
      ],
      "text/plain": [
       "   Person ID Gender  Age            Occupation  Sleep Duration  \\\n",
       "0          1   Male   27     Software Engineer             6.1   \n",
       "1          2   Male   28                Doctor             6.2   \n",
       "2          3   Male   28                Doctor             6.2   \n",
       "3          4   Male   28  Sales Representative             5.9   \n",
       "4          5   Male   28  Sales Representative             5.9   \n",
       "\n",
       "   Quality of Sleep  Physical Activity Level  Stress Level BMI Category  \\\n",
       "0                 6                       42             6   Overweight   \n",
       "1                 6                       60             8       Normal   \n",
       "2                 6                       60             8       Normal   \n",
       "3                 4                       30             8        Obese   \n",
       "4                 4                       30             8        Obese   \n",
       "\n",
       "  Blood Pressure  Heart Rate  Daily Steps Sleep Disorder  \n",
       "0         126/83          77         4200    No Disorder  \n",
       "1         125/80          75        10000    No Disorder  \n",
       "2         125/80          75        10000    No Disorder  \n",
       "3         140/90          85         3000    Sleep Apnea  \n",
       "4         140/90          85         3000    Sleep Apnea  "
      ]
     },
     "execution_count": 29,
     "metadata": {},
     "output_type": "execute_result"
    }
   ],
   "source": [
    "data2.head()"
   ]
  },
  {
   "cell_type": "code",
   "execution_count": 36,
   "id": "fc024dd7",
   "metadata": {},
   "outputs": [
    {
     "name": "stdout",
     "output_type": "stream",
     "text": [
      "<class 'pandas.core.frame.DataFrame'>\n",
      "RangeIndex: 374 entries, 0 to 373\n",
      "Data columns (total 13 columns):\n",
      " #   Column                   Non-Null Count  Dtype  \n",
      "---  ------                   --------------  -----  \n",
      " 0   Person ID                374 non-null    int64  \n",
      " 1   Gender                   374 non-null    object \n",
      " 2   Age                      374 non-null    int64  \n",
      " 3   Occupation               374 non-null    object \n",
      " 4   Sleep Duration           374 non-null    float64\n",
      " 5   Quality of Sleep         374 non-null    int64  \n",
      " 6   Physical Activity Level  374 non-null    int64  \n",
      " 7   Stress Level             374 non-null    int64  \n",
      " 8   BMI Category             374 non-null    object \n",
      " 9   Blood Pressure           374 non-null    object \n",
      " 10  Heart Rate               374 non-null    int64  \n",
      " 11  Daily Steps              374 non-null    int64  \n",
      " 12  Sleep Disorder           374 non-null    object \n",
      "dtypes: float64(1), int64(7), object(5)\n",
      "memory usage: 38.1+ KB\n"
     ]
    }
   ],
   "source": [
    "data2.info()"
   ]
  },
  {
   "cell_type": "markdown",
   "id": "f6abe561",
   "metadata": {},
   "source": [
    "#### Step 1 - Identifying Features and the Target Variable"
   ]
  },
  {
   "cell_type": "code",
   "execution_count": 42,
   "id": "d7e5db4f",
   "metadata": {},
   "outputs": [],
   "source": [
    "X = data2[['Gender', 'Age', 'Sleep Duration', 'Physical Activity Level', 'Stress Level', \n",
    "           'BMI Category', 'Heart Rate', 'Daily Steps', 'Sleep Disorder']]\n",
    "y = data2['Quality of Sleep']"
   ]
  },
  {
   "cell_type": "markdown",
   "id": "da2d11ab",
   "metadata": {},
   "source": [
    "#### Step 2 - Encoding some of the independent variables in order to perform a regression. We would encode Gender, BMI and Sleep Disorder"
   ]
  },
  {
   "cell_type": "code",
   "execution_count": 43,
   "id": "de04587b",
   "metadata": {},
   "outputs": [
    {
     "name": "stdout",
     "output_type": "stream",
     "text": [
      "<class 'pandas.core.frame.DataFrame'>\n",
      "RangeIndex: 374 entries, 0 to 373\n",
      "Data columns (total 9 columns):\n",
      " #   Column                   Non-Null Count  Dtype  \n",
      "---  ------                   --------------  -----  \n",
      " 0   Gender                   374 non-null    object \n",
      " 1   Age                      374 non-null    int64  \n",
      " 2   Sleep Duration           374 non-null    float64\n",
      " 3   Physical Activity Level  374 non-null    int64  \n",
      " 4   Stress Level             374 non-null    int64  \n",
      " 5   BMI Category             374 non-null    object \n",
      " 6   Heart Rate               374 non-null    int64  \n",
      " 7   Daily Steps              374 non-null    int64  \n",
      " 8   Sleep Disorder           374 non-null    object \n",
      "dtypes: float64(1), int64(5), object(3)\n",
      "memory usage: 26.4+ KB\n"
     ]
    }
   ],
   "source": [
    "X.info()"
   ]
  },
  {
   "cell_type": "code",
   "execution_count": 46,
   "id": "ae8ece03",
   "metadata": {},
   "outputs": [
    {
     "data": {
      "text/html": [
       "<div>\n",
       "<style scoped>\n",
       "    .dataframe tbody tr th:only-of-type {\n",
       "        vertical-align: middle;\n",
       "    }\n",
       "\n",
       "    .dataframe tbody tr th {\n",
       "        vertical-align: top;\n",
       "    }\n",
       "\n",
       "    .dataframe thead th {\n",
       "        text-align: right;\n",
       "    }\n",
       "</style>\n",
       "<table border=\"1\" class=\"dataframe\">\n",
       "  <thead>\n",
       "    <tr style=\"text-align: right;\">\n",
       "      <th></th>\n",
       "      <th>Age</th>\n",
       "      <th>Sleep Duration</th>\n",
       "      <th>Physical Activity Level</th>\n",
       "      <th>Stress Level</th>\n",
       "      <th>Heart Rate</th>\n",
       "      <th>Daily Steps</th>\n",
       "      <th>Gender_Male</th>\n",
       "      <th>BMI Category_Obese</th>\n",
       "      <th>BMI Category_Overweight</th>\n",
       "      <th>Sleep Disorder_No Disorder</th>\n",
       "      <th>Sleep Disorder_Sleep Apnea</th>\n",
       "    </tr>\n",
       "  </thead>\n",
       "  <tbody>\n",
       "    <tr>\n",
       "      <th>0</th>\n",
       "      <td>27</td>\n",
       "      <td>6.1</td>\n",
       "      <td>42</td>\n",
       "      <td>6</td>\n",
       "      <td>77</td>\n",
       "      <td>4200</td>\n",
       "      <td>True</td>\n",
       "      <td>False</td>\n",
       "      <td>True</td>\n",
       "      <td>True</td>\n",
       "      <td>False</td>\n",
       "    </tr>\n",
       "    <tr>\n",
       "      <th>1</th>\n",
       "      <td>28</td>\n",
       "      <td>6.2</td>\n",
       "      <td>60</td>\n",
       "      <td>8</td>\n",
       "      <td>75</td>\n",
       "      <td>10000</td>\n",
       "      <td>True</td>\n",
       "      <td>False</td>\n",
       "      <td>False</td>\n",
       "      <td>True</td>\n",
       "      <td>False</td>\n",
       "    </tr>\n",
       "    <tr>\n",
       "      <th>2</th>\n",
       "      <td>28</td>\n",
       "      <td>6.2</td>\n",
       "      <td>60</td>\n",
       "      <td>8</td>\n",
       "      <td>75</td>\n",
       "      <td>10000</td>\n",
       "      <td>True</td>\n",
       "      <td>False</td>\n",
       "      <td>False</td>\n",
       "      <td>True</td>\n",
       "      <td>False</td>\n",
       "    </tr>\n",
       "    <tr>\n",
       "      <th>3</th>\n",
       "      <td>28</td>\n",
       "      <td>5.9</td>\n",
       "      <td>30</td>\n",
       "      <td>8</td>\n",
       "      <td>85</td>\n",
       "      <td>3000</td>\n",
       "      <td>True</td>\n",
       "      <td>True</td>\n",
       "      <td>False</td>\n",
       "      <td>False</td>\n",
       "      <td>True</td>\n",
       "    </tr>\n",
       "    <tr>\n",
       "      <th>4</th>\n",
       "      <td>28</td>\n",
       "      <td>5.9</td>\n",
       "      <td>30</td>\n",
       "      <td>8</td>\n",
       "      <td>85</td>\n",
       "      <td>3000</td>\n",
       "      <td>True</td>\n",
       "      <td>True</td>\n",
       "      <td>False</td>\n",
       "      <td>False</td>\n",
       "      <td>True</td>\n",
       "    </tr>\n",
       "  </tbody>\n",
       "</table>\n",
       "</div>"
      ],
      "text/plain": [
       "   Age  Sleep Duration  Physical Activity Level  Stress Level  Heart Rate  \\\n",
       "0   27             6.1                       42             6          77   \n",
       "1   28             6.2                       60             8          75   \n",
       "2   28             6.2                       60             8          75   \n",
       "3   28             5.9                       30             8          85   \n",
       "4   28             5.9                       30             8          85   \n",
       "\n",
       "   Daily Steps  Gender_Male  BMI Category_Obese  BMI Category_Overweight  \\\n",
       "0         4200         True               False                     True   \n",
       "1        10000         True               False                    False   \n",
       "2        10000         True               False                    False   \n",
       "3         3000         True                True                    False   \n",
       "4         3000         True                True                    False   \n",
       "\n",
       "   Sleep Disorder_No Disorder  Sleep Disorder_Sleep Apnea  \n",
       "0                        True                       False  \n",
       "1                        True                       False  \n",
       "2                        True                       False  \n",
       "3                       False                        True  \n",
       "4                       False                        True  "
      ]
     },
     "execution_count": 46,
     "metadata": {},
     "output_type": "execute_result"
    }
   ],
   "source": [
    "# Use pd.get_dummies to one-hot encode all categorical variables\n",
    "X_encoded=pd.get_dummies(X,columns=['Gender','BMI Category','Sleep Disorder'],drop_first=True)\n",
    "X_encoded.head()"
   ]
  },
  {
   "cell_type": "markdown",
   "id": "a632a2f5",
   "metadata": {},
   "source": [
    "#### Step 4 - Splitting data into Training and Testing sets"
   ]
  },
  {
   "cell_type": "code",
   "execution_count": 48,
   "id": "7f814534",
   "metadata": {},
   "outputs": [],
   "source": [
    "X_train,X_test,y_train,y_test=train_test_split(X_encoded,y,test_size=.20,random_state=42)"
   ]
  },
  {
   "cell_type": "markdown",
   "id": "8df2148c",
   "metadata": {},
   "source": [
    "#### Step 5 - Initializing and Training the model"
   ]
  },
  {
   "cell_type": "code",
   "execution_count": 49,
   "id": "aa9d61c9",
   "metadata": {},
   "outputs": [
    {
     "data": {
      "text/html": [
       "<style>#sk-container-id-1 {color: black;}#sk-container-id-1 pre{padding: 0;}#sk-container-id-1 div.sk-toggleable {background-color: white;}#sk-container-id-1 label.sk-toggleable__label {cursor: pointer;display: block;width: 100%;margin-bottom: 0;padding: 0.3em;box-sizing: border-box;text-align: center;}#sk-container-id-1 label.sk-toggleable__label-arrow:before {content: \"▸\";float: left;margin-right: 0.25em;color: #696969;}#sk-container-id-1 label.sk-toggleable__label-arrow:hover:before {color: black;}#sk-container-id-1 div.sk-estimator:hover label.sk-toggleable__label-arrow:before {color: black;}#sk-container-id-1 div.sk-toggleable__content {max-height: 0;max-width: 0;overflow: hidden;text-align: left;background-color: #f0f8ff;}#sk-container-id-1 div.sk-toggleable__content pre {margin: 0.2em;color: black;border-radius: 0.25em;background-color: #f0f8ff;}#sk-container-id-1 input.sk-toggleable__control:checked~div.sk-toggleable__content {max-height: 200px;max-width: 100%;overflow: auto;}#sk-container-id-1 input.sk-toggleable__control:checked~label.sk-toggleable__label-arrow:before {content: \"▾\";}#sk-container-id-1 div.sk-estimator input.sk-toggleable__control:checked~label.sk-toggleable__label {background-color: #d4ebff;}#sk-container-id-1 div.sk-label input.sk-toggleable__control:checked~label.sk-toggleable__label {background-color: #d4ebff;}#sk-container-id-1 input.sk-hidden--visually {border: 0;clip: rect(1px 1px 1px 1px);clip: rect(1px, 1px, 1px, 1px);height: 1px;margin: -1px;overflow: hidden;padding: 0;position: absolute;width: 1px;}#sk-container-id-1 div.sk-estimator {font-family: monospace;background-color: #f0f8ff;border: 1px dotted black;border-radius: 0.25em;box-sizing: border-box;margin-bottom: 0.5em;}#sk-container-id-1 div.sk-estimator:hover {background-color: #d4ebff;}#sk-container-id-1 div.sk-parallel-item::after {content: \"\";width: 100%;border-bottom: 1px solid gray;flex-grow: 1;}#sk-container-id-1 div.sk-label:hover label.sk-toggleable__label {background-color: #d4ebff;}#sk-container-id-1 div.sk-serial::before {content: \"\";position: absolute;border-left: 1px solid gray;box-sizing: border-box;top: 0;bottom: 0;left: 50%;z-index: 0;}#sk-container-id-1 div.sk-serial {display: flex;flex-direction: column;align-items: center;background-color: white;padding-right: 0.2em;padding-left: 0.2em;position: relative;}#sk-container-id-1 div.sk-item {position: relative;z-index: 1;}#sk-container-id-1 div.sk-parallel {display: flex;align-items: stretch;justify-content: center;background-color: white;position: relative;}#sk-container-id-1 div.sk-item::before, #sk-container-id-1 div.sk-parallel-item::before {content: \"\";position: absolute;border-left: 1px solid gray;box-sizing: border-box;top: 0;bottom: 0;left: 50%;z-index: -1;}#sk-container-id-1 div.sk-parallel-item {display: flex;flex-direction: column;z-index: 1;position: relative;background-color: white;}#sk-container-id-1 div.sk-parallel-item:first-child::after {align-self: flex-end;width: 50%;}#sk-container-id-1 div.sk-parallel-item:last-child::after {align-self: flex-start;width: 50%;}#sk-container-id-1 div.sk-parallel-item:only-child::after {width: 0;}#sk-container-id-1 div.sk-dashed-wrapped {border: 1px dashed gray;margin: 0 0.4em 0.5em 0.4em;box-sizing: border-box;padding-bottom: 0.4em;background-color: white;}#sk-container-id-1 div.sk-label label {font-family: monospace;font-weight: bold;display: inline-block;line-height: 1.2em;}#sk-container-id-1 div.sk-label-container {text-align: center;}#sk-container-id-1 div.sk-container {/* jupyter's `normalize.less` sets `[hidden] { display: none; }` but bootstrap.min.css set `[hidden] { display: none !important; }` so we also need the `!important` here to be able to override the default hidden behavior on the sphinx rendered scikit-learn.org. See: https://github.com/scikit-learn/scikit-learn/issues/21755 */display: inline-block !important;position: relative;}#sk-container-id-1 div.sk-text-repr-fallback {display: none;}</style><div id=\"sk-container-id-1\" class=\"sk-top-container\"><div class=\"sk-text-repr-fallback\"><pre>LinearRegression()</pre><b>In a Jupyter environment, please rerun this cell to show the HTML representation or trust the notebook. <br />On GitHub, the HTML representation is unable to render, please try loading this page with nbviewer.org.</b></div><div class=\"sk-container\" hidden><div class=\"sk-item\"><div class=\"sk-estimator sk-toggleable\"><input class=\"sk-toggleable__control sk-hidden--visually\" id=\"sk-estimator-id-1\" type=\"checkbox\" checked><label for=\"sk-estimator-id-1\" class=\"sk-toggleable__label sk-toggleable__label-arrow\">LinearRegression</label><div class=\"sk-toggleable__content\"><pre>LinearRegression()</pre></div></div></div></div></div>"
      ],
      "text/plain": [
       "LinearRegression()"
      ]
     },
     "execution_count": 49,
     "metadata": {},
     "output_type": "execute_result"
    }
   ],
   "source": [
    "mlr_model=LinearRegression()\n",
    "mlr_model.fit(X_train.values,y_train.values)"
   ]
  },
  {
   "cell_type": "markdown",
   "id": "9e546a2f",
   "metadata": {},
   "source": [
    "#### Step 6 - Making Predictions on the Test set"
   ]
  },
  {
   "cell_type": "code",
   "execution_count": 50,
   "id": "4d3b047c",
   "metadata": {},
   "outputs": [
    {
     "name": "stderr",
     "output_type": "stream",
     "text": [
      "/Users/evakramarova/anaconda3/lib/python3.11/site-packages/sklearn/base.py:457: UserWarning: X has feature names, but LinearRegression was fitted without feature names\n",
      "  warnings.warn(\n"
     ]
    }
   ],
   "source": [
    "y_pred_mlr=mlr_model.predict(X_test)"
   ]
  },
  {
   "cell_type": "markdown",
   "id": "31286eb2",
   "metadata": {},
   "source": [
    "#### Step 7 -  Evaluating the Model"
   ]
  },
  {
   "cell_type": "code",
   "execution_count": 57,
   "id": "c990f0c7",
   "metadata": {},
   "outputs": [
    {
     "name": "stdout",
     "output_type": "stream",
     "text": [
      "Multiple Linear Regression Evaluation Metrics:\n"
     ]
    },
    {
     "data": {
      "text/plain": [
       "(0.06544666728289363, 0.25582546253821886, 0.956618253185685)"
      ]
     },
     "execution_count": 57,
     "metadata": {},
     "output_type": "execute_result"
    }
   ],
   "source": [
    "mse_mlr=mean_squared_error(y_test,y_pred_mlr)\n",
    "rmse_mlr=np.sqrt(mse_mlr)\n",
    "r2_mlr=r2_score(y_test,y_pred_mlr)\n",
    "\n",
    "# Output evaluation metrics\n",
    "print(\"Multiple Linear Regression Evaluation Metrics:\")\n",
    "mse_mlr,rmse_mlr,r2_mlr\n"
   ]
  },
  {
   "cell_type": "markdown",
   "id": "21f2eceb",
   "metadata": {},
   "source": [
    "R-squared value is a great measurement of the proportion of variance in the target variable explained by the model. The R-squared of this regression is nearly 0.96, which is a high number which indicates that our model is a good fit. \n",
    "An MSE of 0.0654 indicates that, on average, the squared difference between the predicted and actual values is relatively small. This suggests that the model is capturing the patterns in the data well, but interpretation depends on the scale of the target variable (Quality of Sleep: 1-7). Lower MSE is better.\n",
    "An RMSE of 0.256 shows that, on average, the model's predictions deviate from the actual values by about 0.26 units on a scale of 1 to 7. This is a good result if small deviations are acceptable in your application. It indicates decent predictive accuracy for a regression model."
   ]
  },
  {
   "cell_type": "markdown",
   "id": "91f85682",
   "metadata": {},
   "source": [
    "# ADD COMMENTS ABOUT THE METRICS AND FINDINGS "
   ]
  },
  {
   "cell_type": "markdown",
   "id": "4fb72467",
   "metadata": {},
   "source": [
    "#### Example input: "
   ]
  },
  {
   "cell_type": "code",
   "execution_count": 59,
   "id": "ed2a19ea",
   "metadata": {},
   "outputs": [
    {
     "data": {
      "text/html": [
       "<div>\n",
       "<style scoped>\n",
       "    .dataframe tbody tr th:only-of-type {\n",
       "        vertical-align: middle;\n",
       "    }\n",
       "\n",
       "    .dataframe tbody tr th {\n",
       "        vertical-align: top;\n",
       "    }\n",
       "\n",
       "    .dataframe thead th {\n",
       "        text-align: right;\n",
       "    }\n",
       "</style>\n",
       "<table border=\"1\" class=\"dataframe\">\n",
       "  <thead>\n",
       "    <tr style=\"text-align: right;\">\n",
       "      <th></th>\n",
       "      <th>Age</th>\n",
       "      <th>Sleep Duration</th>\n",
       "      <th>Physical Activity Level</th>\n",
       "      <th>Stress Level</th>\n",
       "      <th>Heart Rate</th>\n",
       "      <th>Daily Steps</th>\n",
       "      <th>Gender_Male</th>\n",
       "      <th>BMI Category_Obese</th>\n",
       "      <th>BMI Category_Overweight</th>\n",
       "      <th>Sleep Disorder_No Disorder</th>\n",
       "      <th>Sleep Disorder_Sleep Apnea</th>\n",
       "    </tr>\n",
       "  </thead>\n",
       "  <tbody>\n",
       "    <tr>\n",
       "      <th>249</th>\n",
       "      <td>44</td>\n",
       "      <td>6.5</td>\n",
       "      <td>45</td>\n",
       "      <td>7</td>\n",
       "      <td>72</td>\n",
       "      <td>6000</td>\n",
       "      <td>True</td>\n",
       "      <td>False</td>\n",
       "      <td>True</td>\n",
       "      <td>True</td>\n",
       "      <td>False</td>\n",
       "    </tr>\n",
       "  </tbody>\n",
       "</table>\n",
       "</div>"
      ],
      "text/plain": [
       "     Age  Sleep Duration  Physical Activity Level  Stress Level  Heart Rate  \\\n",
       "249   44             6.5                       45             7          72   \n",
       "\n",
       "     Daily Steps  Gender_Male  BMI Category_Obese  BMI Category_Overweight  \\\n",
       "249         6000         True               False                     True   \n",
       "\n",
       "     Sleep Disorder_No Disorder  Sleep Disorder_Sleep Apnea  \n",
       "249                        True                       False  "
      ]
     },
     "execution_count": 59,
     "metadata": {},
     "output_type": "execute_result"
    }
   ],
   "source": [
    "X_test.sample()"
   ]
  },
  {
   "cell_type": "markdown",
   "id": "79d71683",
   "metadata": {},
   "source": [
    "Example: To predict the quality of sleep for a male of 28 years old with sleep duration of 6.1, physical activity level of 60, stress level 8, heart rate 72, daily stepd of 4200, with a normal weight and no sleep disorder."
   ]
  },
  {
   "cell_type": "code",
   "execution_count": 62,
   "id": "fd128a3e",
   "metadata": {},
   "outputs": [
    {
     "data": {
      "text/plain": [
       "array([5.42066945])"
      ]
     },
     "execution_count": 62,
     "metadata": {},
     "output_type": "execute_result"
    }
   ],
   "source": [
    "mlr_model.predict([[28,6.1,60,8,72,4200,1,0,0,0,0]])"
   ]
  },
  {
   "cell_type": "code",
   "execution_count": null,
   "id": "62e5ead3",
   "metadata": {},
   "outputs": [],
   "source": []
  }
 ],
 "metadata": {
  "kernelspec": {
   "display_name": "Python 3 (ipykernel)",
   "language": "python",
   "name": "python3"
  },
  "language_info": {
   "codemirror_mode": {
    "name": "ipython",
    "version": 3
   },
   "file_extension": ".py",
   "mimetype": "text/x-python",
   "name": "python",
   "nbconvert_exporter": "python",
   "pygments_lexer": "ipython3",
   "version": "3.11.5"
  }
 },
 "nbformat": 4,
 "nbformat_minor": 5
}
